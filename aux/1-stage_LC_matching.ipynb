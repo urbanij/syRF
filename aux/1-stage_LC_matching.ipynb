{
 "cells": [
  {
   "cell_type": "code",
   "execution_count": 9,
   "metadata": {},
   "outputs": [],
   "source": [
    "#usr/bin\n",
    "# @date        : Mon Mar 19 15:38:35 CEST 2018\n",
    "# @author(s)   : Francesco Urbani\n",
    "# @file        : \n",
    "# @descritpion : Python calculations for 1 stage LC matching network\n",
    "#                \n",
    "\n",
    "# RF Electronics class, Spring 2018\n",
    "\n",
    "sympy.init_printing()"
   ]
  },
  {
   "cell_type": "markdown",
   "metadata": {},
   "source": [
    "## Series - shunt"
   ]
  },
  {
   "cell_type": "code",
   "execution_count": 10,
   "metadata": {},
   "outputs": [],
   "source": [
    "########################################\n",
    "# series - shunt \n",
    "########################################\n",
    "\n",
    "import sympy\n",
    "\n",
    "R_L = sympy.Symbol(\"R_L\", real=True)\n",
    "X_L = sympy.Symbol(\"X_L\", real=True)\n",
    "R_0 = sympy.Symbol(\"R_0\", real=True)\n",
    "X_0 = sympy.Symbol(\"X_0\", real=True)\n",
    "X   = sympy.Symbol(\"X\",   real=True)\n",
    "B   = sympy.Symbol(\"B\",   real=True)\n"
   ]
  },
  {
   "cell_type": "code",
   "execution_count": 11,
   "metadata": {},
   "outputs": [
    {
     "data": {
      "image/png": "[encoded data removed]",
      "text/latex": [
       "$$\\frac{1}{1.0 i B + \\frac{1}{R_{L} + 1.0 i \\left(X + X_{L}\\right)}}$$"
      ],
      "text/plain": [
       "               1               \n",
       "───────────────────────────────\n",
       "                    1          \n",
       "1.0⋅ⅈ⋅B + ─────────────────────\n",
       "          R_L + 1.0⋅ⅈ⋅(X + X_L)"
      ]
     },
     "execution_count": 11,
     "metadata": {},
     "output_type": "execute_result"
    }
   ],
   "source": [
    "Z_0 = 1/(1j*B + 1/(R_L+1j*(X+X_L)))\n",
    "\n",
    "Z_0"
   ]
  },
  {
   "cell_type": "code",
   "execution_count": 12,
   "metadata": {},
   "outputs": [
    {
     "data": {
      "image/png": "[encoded data removed]",
      "text/latex": [
       "$$\\frac{R_{L}}{\\left(R_{L}^{2} + \\left(1.0 X + 1.0 X_{L}\\right)^{2}\\right) \\left(\\frac{R_{L}^{2}}{\\left(R_{L}^{2} + \\left(1.0 X + 1.0 X_{L}\\right)^{2}\\right)^{2}} + \\left(1.0 B + \\frac{- 1.0 X - 1.0 X_{L}}{R_{L}^{2} + \\left(1.0 X + 1.0 X_{L}\\right)^{2}}\\right)^{2}\\right)}$$"
      ],
      "text/plain": [
       "                                               R_L                            \n",
       "──────────────────────────────────────────────────────────────────────────────\n",
       "                            ⎛               2                                 \n",
       "⎛   2                    2⎞ ⎜            R_L                ⎛             -1.0\n",
       "⎝R_L  + (1.0⋅X + 1.0⋅X_L) ⎠⋅⎜──────────────────────────── + ⎜1.0⋅B + ─────────\n",
       "                            ⎜                           2   ⎜           2     \n",
       "                            ⎜⎛   2                    2⎞    ⎝        R_L  + (1\n",
       "                            ⎝⎝R_L  + (1.0⋅X + 1.0⋅X_L) ⎠                      \n",
       "\n",
       "                   \n",
       "───────────────────\n",
       "                 2⎞\n",
       "⋅X - 1.0⋅X_L    ⎞ ⎟\n",
       "────────────────⎟ ⎟\n",
       "               2⎟ ⎟\n",
       ".0⋅X + 1.0⋅X_L) ⎠ ⎟\n",
       "                  ⎠"
      ]
     },
     "execution_count": 12,
     "metadata": {},
     "output_type": "execute_result"
    }
   ],
   "source": [
    "sympy.re(Z_0)\n",
    "\n"
   ]
  },
  {
   "cell_type": "code",
   "execution_count": 19,
   "metadata": {},
   "outputs": [
    {
     "data": {
      "image/png": "[encoded data removed]",
      "text/latex": [
       "$$\\frac{- 1.0 B - \\frac{- 1.0 X - 1.0 X_{L}}{R_{L}^{2} + \\left(1.0 X + 1.0 X_{L}\\right)^{2}}}{\\frac{R_{L}^{2}}{\\left(R_{L}^{2} + \\left(1.0 X + 1.0 X_{L}\\right)^{2}\\right)^{2}} + \\left(1.0 B + \\frac{- 1.0 X - 1.0 X_{L}}{R_{L}^{2} + \\left(1.0 X + 1.0 X_{L}\\right)^{2}}\\right)^{2}}$$"
      ],
      "text/plain": [
       "                               -1.0⋅X - 1.0⋅X_L                    \n",
       "                 -1.0⋅B - ─────────────────────────                \n",
       "                             2                    2                \n",
       "                          R_L  + (1.0⋅X + 1.0⋅X_L)                 \n",
       "───────────────────────────────────────────────────────────────────\n",
       "               2                                                  2\n",
       "            R_L                ⎛             -1.0⋅X - 1.0⋅X_L    ⎞ \n",
       "──────────────────────────── + ⎜1.0⋅B + ─────────────────────────⎟ \n",
       "                           2   ⎜           2                    2⎟ \n",
       "⎛   2                    2⎞    ⎝        R_L  + (1.0⋅X + 1.0⋅X_L) ⎠ \n",
       "⎝R_L  + (1.0⋅X + 1.0⋅X_L) ⎠                                        "
      ]
     },
     "execution_count": 19,
     "metadata": {},
     "output_type": "execute_result"
    }
   ],
   "source": [
    "sympy.im(Z_0)\n"
   ]
  },
  {
   "cell_type": "code",
   "execution_count": 20,
   "metadata": {},
   "outputs": [],
   "source": [
    "eq1 = sympy.Eq( sympy.re(Z_0) ,  R_0)\n",
    "eq2 = sympy.Eq( sympy.im(Z_0) , -X_0)\n"
   ]
  },
  {
   "cell_type": "code",
   "execution_count": 21,
   "metadata": {},
   "outputs": [
    {
     "ename": "TypeError",
     "evalue": "cannot determine truth value of Relational",
     "output_type": "error",
     "traceback": [
      "\u001b[0;31m---------------------------------------------------------------------------\u001b[0m",
      "\u001b[0;31mTypeError\u001b[0m                                 Traceback (most recent call last)",
      "\u001b[0;32m<ipython-input-21-e875003e11db>\u001b[0m in \u001b[0;36m<module>\u001b[0;34m()\u001b[0m\n\u001b[0;32m----> 1\u001b[0;31m \u001b[0mS\u001b[0m \u001b[0;34m=\u001b[0m \u001b[0msympy\u001b[0m\u001b[0;34m.\u001b[0m\u001b[0msolve\u001b[0m\u001b[0;34m(\u001b[0m\u001b[0meq1\u001b[0m\u001b[0;34m,\u001b[0m \u001b[0meq2\u001b[0m\u001b[0;34m,\u001b[0m \u001b[0mX\u001b[0m\u001b[0;34m,\u001b[0m \u001b[0mB\u001b[0m\u001b[0;34m)\u001b[0m\u001b[0;34m\u001b[0m\u001b[0m\n\u001b[0m",
      "\u001b[0;32m~/anaconda3/lib/python3.6/site-packages/sympy/solvers/solvers.py\u001b[0m in \u001b[0;36msolve\u001b[0;34m(f, *symbols, **flags)\u001b[0m\n\u001b[1;32m    825\u001b[0m     \u001b[0mbare_f\u001b[0m \u001b[0;34m=\u001b[0m \u001b[0;32mnot\u001b[0m \u001b[0miterable\u001b[0m\u001b[0;34m(\u001b[0m\u001b[0mf\u001b[0m\u001b[0;34m)\u001b[0m\u001b[0;34m\u001b[0m\u001b[0m\n\u001b[1;32m    826\u001b[0m     ordered_symbols = (symbols and\n\u001b[0;32m--> 827\u001b[0;31m                        \u001b[0msymbols\u001b[0m\u001b[0;34m[\u001b[0m\u001b[0;36m0\u001b[0m\u001b[0;34m]\u001b[0m \u001b[0;32mand\u001b[0m\u001b[0;34m\u001b[0m\u001b[0m\n\u001b[0m\u001b[1;32m    828\u001b[0m                        (isinstance(symbols[0], Symbol) or\n\u001b[1;32m    829\u001b[0m                         is_sequence(symbols[0],\n",
      "\u001b[0;32m~/anaconda3/lib/python3.6/site-packages/sympy/core/relational.py\u001b[0m in \u001b[0;36m__nonzero__\u001b[0;34m(self)\u001b[0m\n\u001b[1;32m    193\u001b[0m \u001b[0;34m\u001b[0m\u001b[0m\n\u001b[1;32m    194\u001b[0m     \u001b[0;32mdef\u001b[0m \u001b[0m__nonzero__\u001b[0m\u001b[0;34m(\u001b[0m\u001b[0mself\u001b[0m\u001b[0;34m)\u001b[0m\u001b[0;34m:\u001b[0m\u001b[0;34m\u001b[0m\u001b[0m\n\u001b[0;32m--> 195\u001b[0;31m         \u001b[0;32mraise\u001b[0m \u001b[0mTypeError\u001b[0m\u001b[0;34m(\u001b[0m\u001b[0;34m\"cannot determine truth value of Relational\"\u001b[0m\u001b[0;34m)\u001b[0m\u001b[0;34m\u001b[0m\u001b[0m\n\u001b[0m\u001b[1;32m    196\u001b[0m \u001b[0;34m\u001b[0m\u001b[0m\n\u001b[1;32m    197\u001b[0m     \u001b[0m__bool__\u001b[0m \u001b[0;34m=\u001b[0m \u001b[0m__nonzero__\u001b[0m\u001b[0;34m\u001b[0m\u001b[0m\n",
      "\u001b[0;31mTypeError\u001b[0m: cannot determine truth value of Relational"
     ]
    }
   ],
   "source": [
    "S = sympy.solve(eq1, eq2, X, B)"
   ]
  },
  {
   "cell_type": "code",
   "execution_count": 17,
   "metadata": {},
   "outputs": [
    {
     "data": {
      "image/png": "[encoded data removed]",
      "text/latex": [
       "$$\\frac{R_{L}}{\\left(R_{L}^{2} + \\left(1.0 X + 1.0 X_{L}\\right)^{2}\\right) \\left(\\frac{R_{L}^{2}}{\\left(R_{L}^{2} + \\left(1.0 X + 1.0 X_{L}\\right)^{2}\\right)^{2}} + \\left(1.0 B + \\frac{- 1.0 X - 1.0 X_{L}}{R_{L}^{2} + \\left(1.0 X + 1.0 X_{L}\\right)^{2}}\\right)^{2}\\right)} = R_{0}$$"
      ],
      "text/plain": [
       "                                               R_L                            \n",
       "──────────────────────────────────────────────────────────────────────────────\n",
       "                            ⎛               2                                 \n",
       "⎛   2                    2⎞ ⎜            R_L                ⎛             -1.0\n",
       "⎝R_L  + (1.0⋅X + 1.0⋅X_L) ⎠⋅⎜──────────────────────────── + ⎜1.0⋅B + ─────────\n",
       "                            ⎜                           2   ⎜           2     \n",
       "                            ⎜⎛   2                    2⎞    ⎝        R_L  + (1\n",
       "                            ⎝⎝R_L  + (1.0⋅X + 1.0⋅X_L) ⎠                      \n",
       "\n",
       "                        \n",
       "─────────────────── = R₀\n",
       "                 2⎞     \n",
       "⋅X - 1.0⋅X_L    ⎞ ⎟     \n",
       "────────────────⎟ ⎟     \n",
       "               2⎟ ⎟     \n",
       ".0⋅X + 1.0⋅X_L) ⎠ ⎟     \n",
       "                  ⎠     "
      ]
     },
     "execution_count": 17,
     "metadata": {},
     "output_type": "execute_result"
    }
   ],
   "source": [
    "eq1"
   ]
  },
  {
   "cell_type": "code",
   "execution_count": 18,
   "metadata": {},
   "outputs": [
    {
     "data": {
      "image/png": "[encoded data removed]",
      "text/latex": [
       "$$\\frac{- 1.0 B - \\frac{- 1.0 X - 1.0 X_{L}}{R_{L}^{2} + \\left(1.0 X + 1.0 X_{L}\\right)^{2}}}{\\frac{R_{L}^{2}}{\\left(R_{L}^{2} + \\left(1.0 X + 1.0 X_{L}\\right)^{2}\\right)^{2}} + \\left(1.0 B + \\frac{- 1.0 X - 1.0 X_{L}}{R_{L}^{2} + \\left(1.0 X + 1.0 X_{L}\\right)^{2}}\\right)^{2}} = - X_{0}$$"
      ],
      "text/plain": [
       "                               -1.0⋅X - 1.0⋅X_L                          \n",
       "                 -1.0⋅B - ─────────────────────────                      \n",
       "                             2                    2                      \n",
       "                          R_L  + (1.0⋅X + 1.0⋅X_L)                       \n",
       "─────────────────────────────────────────────────────────────────── = -X₀\n",
       "               2                                                  2      \n",
       "            R_L                ⎛             -1.0⋅X - 1.0⋅X_L    ⎞       \n",
       "──────────────────────────── + ⎜1.0⋅B + ─────────────────────────⎟       \n",
       "                           2   ⎜           2                    2⎟       \n",
       "⎛   2                    2⎞    ⎝        R_L  + (1.0⋅X + 1.0⋅X_L) ⎠       \n",
       "⎝R_L  + (1.0⋅X + 1.0⋅X_L) ⎠                                              "
      ]
     },
     "execution_count": 18,
     "metadata": {},
     "output_type": "execute_result"
    }
   ],
   "source": [
    "eq2"
   ]
  },
  {
   "cell_type": "code",
   "execution_count": null,
   "metadata": {},
   "outputs": [],
   "source": []
  }
 ],
 "metadata": {
  "kernelspec": {
   "display_name": "Python 3",
   "language": "python",
   "name": "python3"
  },
  "language_info": {
   "codemirror_mode": {
    "name": "ipython",
    "version": 3
   },
   "file_extension": ".py",
   "mimetype": "text/x-python",
   "name": "python",
   "nbconvert_exporter": "python",
   "pygments_lexer": "ipython3",
   "version": "3.6.4"
  }
 },
 "nbformat": 4,
 "nbformat_minor": 2
}
