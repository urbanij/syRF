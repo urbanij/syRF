{
 "cells": [
  {
   "cell_type": "markdown",
   "metadata": {},
   "source": [
    "## L section matching network\n",
    "\n",
    "Notebook for designing an L-section matching network.\n",
    "\n",
    "Resources:\n",
    "- https://youtu.be/IgeRHDI-ukc\n",
    "- file:///matching_network.pdf\n",
    "\n",
    "Tools:\n",
    "- http://leleivre.com/rf_lcmatch.html\n",
    "- https://it.mathworks.com/help/symbolic/solve.html\n",
    "\n",
    "Sat Mar 21 15:50:57 CET 2020"
   ]
  },
  {
   "cell_type": "code",
   "execution_count": 19,
   "metadata": {},
   "outputs": [],
   "source": [
    "import quantiphy"
   ]
  },
  {
   "cell_type": "code",
   "execution_count": 20,
   "metadata": {},
   "outputs": [],
   "source": [
    "PI = np.pi"
   ]
  },
  {
   "cell_type": "code",
   "execution_count": null,
   "metadata": {},
   "outputs": [],
   "source": []
  },
  {
   "cell_type": "code",
   "execution_count": 21,
   "metadata": {},
   "outputs": [],
   "source": [
    "class ReactiveComponent:\n",
    "    \"\"\"\n",
    "    Reactive component object\n",
    "\n",
    "    >>> ReactiveComponent(1000, f=1e6)\n",
    "    Inductor:\n",
    "        X = 1 kΩ ⇔ B = -1 mS\n",
    "        L = 159.15 uH (@ 1 MHz)\n",
    "    \n",
    "    Z = R + jX (impedance = resistance + j*reactance) \n",
    "    Y = G + jB (admittance = conductance + j*susceptance)\n",
    "    \n",
    "    \"\"\"\n",
    "    def __init__(self, reactance, f=None):\n",
    "        self._frequency = f\n",
    "        self._reactance = quantiphy.Quantity(str(reactance) + 'Ω')\n",
    "        self._component_type = \"L\" if reactance > 0 else \"C\" if reactance < 0 else \"wire\"\n",
    "        \n",
    "        if f != None: \n",
    "            assert f > 0\n",
    "\n",
    "            self._frequency = quantiphy.Quantity(str(f) + 'Hz')\n",
    "        \n",
    "            if self._component_type == \"L\":\n",
    "                inductor_val = (self._reactance/(2*PI*self._frequency)).real\n",
    "                self._component_value = quantiphy.Quantity(str(inductor_val) + 'H')\n",
    "            elif self._component_type == \"C\":\n",
    "                capacitor_val = (-1/(2*PI*self._frequency*self._reactance)).real\n",
    "                self._component_value = quantiphy.Quantity(str(capacitor_val) + 'F')\n",
    "            else:\n",
    "                self._component_value = 0\n",
    "        else:\n",
    "            self._component_value = None\n",
    "\n",
    "    def __eq__(self, other):\n",
    "        return  self._frequency == other._frequency and \\\n",
    "                self._reactance == other._reactance\n",
    "\n",
    "    def get_freq(self):\n",
    "        return self._frequency\n",
    "    \n",
    "    def get_susceptance(self):\n",
    "        if self._reactance != 0:\n",
    "            return quantiphy.Quantity(str(-1/self._reactance) + 'S')\n",
    "        else:\n",
    "            return -np.inf\n",
    "    \n",
    "    def __repr__(self):\n",
    "        rv = \"Inductor\" if self._component_type == \"L\" else \"Capacitor\" if self._component_type == \"C\" else \"wire\"\n",
    "        rv += \":\\n\\t\"\n",
    "        rv += f\"X = {self._reactance} ⇔ B = {self.get_susceptance() }\"\n",
    "        rv += f\"\\n\\t\\033[1m{self._component_type}\\033[0;0m = \\033[1m{self._component_value}\\033[0;0m  (@ {self._frequency})\" if self._frequency != None and self._component_type!='wire' else \"\"\n",
    "        return rv"
   ]
  },
  {
   "cell_type": "code",
   "execution_count": 22,
   "metadata": {},
   "outputs": [
    {
     "name": "stdout",
     "output_type": "stream",
     "text": [
      "Inductor:\n",
      "\tX = 14 Ω ⇔ B = -71.429 mS\n",
      "\t\u001b[1mL\u001b[0;0m = \u001b[1m171.4 nH\u001b[0;0m  (@ 13 MHz)\n",
      "Capacitor:\n",
      "\tX = -21 Ω ⇔ B = 47.619 mS\n",
      "\t\u001b[1mC\u001b[0;0m = \u001b[1m2.4448 pF\u001b[0;0m  (@ 3.1 GHz)\n",
      "wire:\n",
      "\tX = 0 Ω ⇔ B = -inf\n"
     ]
    }
   ],
   "source": [
    "print(ReactiveComponent(14, f=13e6))\n",
    "print(ReactiveComponent(-21, f=31e8))\n",
    "print(ReactiveComponent(0, f=12e6))"
   ]
  },
  {
   "cell_type": "code",
   "execution_count": 23,
   "metadata": {},
   "outputs": [],
   "source": [
    "class Solution:\n",
    "    def __init__(self, config_type, shunt_elem: ReactiveComponent, series_elem: ReactiveComponent):\n",
    "        \n",
    "        assert shunt_elem.get_freq() == series_elem.get_freq()\n",
    "        \n",
    "        self._config_type = config_type\n",
    "        self._shunt_elem = shunt_elem\n",
    "        self._series_elem = series_elem\n",
    "\n",
    "    def __eq__(self, other):\n",
    "        return  self._config_type == other._config_type and \\\n",
    "                self._shunt_elem  == other._shunt_elem  and \\\n",
    "                self._series_elem == other._series_elem\n",
    "    \n",
    "    def __repr__(self):\n",
    "        if self._config_type == \"shunt-series\":\n",
    "            return f\"{self._config_type}\\n\\tShunt {self._shunt_elem}\\n\\tSeries {self._series_elem}\\n\"\n",
    "        else:\n",
    "            return f\"{self._config_type}\\n\\tSeries {self._series_elem}\\n\\tShunt {self._shunt_elem}\\n\""
   ]
  },
  {
   "cell_type": "code",
   "execution_count": 24,
   "metadata": {},
   "outputs": [
    {
     "data": {
      "text/plain": [
       "shunt-series\n",
       "\tShunt Inductor:\n",
       "\tX = 20 Ω ⇔ B = -50 mS\n",
       "\t\u001b[1mL\u001b[0;0m = \u001b[1m159.15 nH\u001b[0;0m  (@ 20 MHz)\n",
       "\tSeries Capacitor:\n",
       "\tX = -24.2 Ω ⇔ B = 41.322 mS\n",
       "\t\u001b[1mC\u001b[0;0m = \u001b[1m328.83 pF\u001b[0;0m  (@ 20 MHz)"
      ]
     },
     "execution_count": 24,
     "metadata": {},
     "output_type": "execute_result"
    }
   ],
   "source": [
    "# example\n",
    "Solution(\"shunt-series\", ReactiveComponent(20, 200e5), ReactiveComponent(-24.2, 200e5))\n"
   ]
  },
  {
   "cell_type": "markdown",
   "metadata": {},
   "source": [
    "### Shunt-series\n",
    "\n",
    "![shunt_series](shunt_series_configuration.png)\n",
    "\n",
    "$$\n",
    "Z_2 = R_2 + jX_2 = jX_{ser} + \\frac{1}{\\frac{1}{jX_{shu}} + \\frac{1}{R_1 + jX_1}}\n",
    "$$\n",
    "\n",
    "$$\n",
    "\\begin{cases} R_2 = \\Re(Z_2)\\\\ X_2 = \\Im(Z_2) \\end{cases}\n",
    "$$\n",
    "\n",
    "$$\n",
    "\\begin{cases} X_{shu}(R_1,X_1,R_2,X_2) = \\frac{R_1X_2 + R_2X_1 - R_1 \\left( X_2 \\mp \\sqrt{\\frac{R_2}{R_1} \\left( R_1^2 - R_1R_2 + X_1^2\\right)} \\right)}{R_1 - R_2} \\\\ X_{ser}(R_1,X_1,R_2,X_2) = X_2 \\mp \\sqrt{\\frac{R_2}{R_1} \\left( R_1^2 - R_1R_2 + X_1^2\\right)} \\end{cases}\n",
    "$$\n",
    "\n",
    "if \n",
    "$$\n",
    "R_1\\left(R_1-R_2\\right) + X_1^2 \\geq 0\n",
    "$$\n",
    "\n",
    "### Series-shunt\n",
    "\n",
    "![series_shunt](series_shunt_configuration.png)\n",
    "\n",
    "$$\n",
    "Z_2 = R_2 + jX_2 = \\frac{1}{\\frac{1}{jX_{shu}} + \\frac{1}{R_1+jX_1+jX_{ser}}}\n",
    "$$\n",
    "\n",
    "$$\n",
    "\\begin{cases} R_2 = \\Re(Z_2)\\\\ X_2 = \\Im(Z_2) \\end{cases}\n",
    "$$\n",
    "\n",
    "$$\n",
    "\\begin{cases} X_{shu}(R_1,X_1,R_2,X_2) = \\frac{R_1X_2 \\pm \\sqrt{R_1R_2 \\left(R_2^2-R_1R_2+X_2^2\\right)} }{R_1-R_2} \\\\ X_{ser}(R_1,X_1,R_2,X_2) = -\\frac{R_2X_1 \\mp \\sqrt{R_1R_2\\left(R_2^2-R_1R_2+X_2^2\\right)}}{R_2} \\end{cases}\n",
    "$$\n",
    "\n",
    "if \n",
    "$$\n",
    "R_2\\left(R_2-R_1\\right) + X_2^2 \\geq 0\n",
    "$$\n"
   ]
  },
  {
   "cell_type": "code",
   "execution_count": 81,
   "metadata": {},
   "outputs": [],
   "source": [
    "class L_section_matching:\n",
    "    def __init__(self, input_impedance, output_impedance, frequency=None):\n",
    "        \n",
    "        assert input_impedance.real >= 0 and output_impedance.real >= 0\n",
    "        \n",
    "        self._Z1 = input_impedance\n",
    "        self._Z2 = output_impedance\n",
    "        self._normalized_impedance = input_impedance/output_impedance\n",
    "        \n",
    "        self._frequency = frequency\n",
    "        self._solutions = []\n",
    "        \n",
    "        self._input_reactance = ReactiveComponent(input_impedance.imag, frequency)\n",
    "        \n",
    "    def match(self):\n",
    "        R1 = self._Z1.real\n",
    "        X1 = self._Z1.imag\n",
    "        R2 = self._Z2.real\n",
    "        X2 = self._Z2.imag\n",
    "\n",
    "        if R1*(R1 - R2) + X1**2 >= 0:\n",
    "            \"\"\"\n",
    "            shunt - series configuration (down coversion)\n",
    "            \n",
    "                                          jXser\n",
    "                                       +--------+\n",
    "                      +-----------+----+        +----+\n",
    "                      |           |    +--------+\n",
    "                      |           |\n",
    "                     +++         +++                                                   1\n",
    "            Z1 =     | |         | | jXshu             Z2 = R2 + jX2 = jXser + -----------------\n",
    "            R1 + jX1 | |         | |                                             1        1\n",
    "                     +++         +++                                           ----- + --------\n",
    "                      |           |                                            jXshu   R1 + jX1\n",
    "                      |           |\n",
    "                      +-----------+------------------+\n",
    "            \n",
    "            \"\"\"\n",
    "\n",
    "            Xshu_1 = (R1*X2 + R2*X1 - R1*(X2 - ((R2*(R1**2 - R2*R1 + X1**2))/R1)**(1/2)))/(R1 - R2)\n",
    "            Xser_1 = X2 - ((R2*(R1**2 - R2*R1 + X1**2))/R1)**(1/2)\n",
    "\n",
    "            Xshu_2 = (R1*X2 + R2*X1 - R1*(X2 + ((R2*(R1**2 - R2*R1 + X1**2))/R1)**(1/2)))/(R1 - R2)\n",
    "            Xser_2 = X2 + ((R2*(R1**2 - R2*R1 + X1**2))/R1)**(1/2)\n",
    "            \n",
    "            sol1 = Solution(\n",
    "                    config_type=\"shunt-series\", \n",
    "                    shunt_elem=ReactiveComponent(Xshu_1, f=self._frequency),\n",
    "                    series_elem=ReactiveComponent(Xser_1, f=self._frequency)\n",
    "                )\n",
    "            \n",
    "            sol2 = Solution(\n",
    "                    config_type=\"shunt-series\", \n",
    "                    shunt_elem=ReactiveComponent(Xshu_2, f=self._frequency),\n",
    "                    series_elem=ReactiveComponent(Xser_2, f=self._frequency)\n",
    "                )\n",
    "\n",
    "            self._solutions.append(sol1)\n",
    "            if sol2 != sol1: # do not duplicate solutions\n",
    "                self._solutions.append(sol2)\n",
    "     \n",
    "\n",
    "        if R2*(R2 - R1) + X2**2 >= 0:\n",
    "            \"\"\" series - shunt configuration (up conversion)\n",
    "            \n",
    "                                jXser\n",
    "                              +--------+\n",
    "                      +-------+        +-----+--------------+\n",
    "                      |       +--------+     |\n",
    "                      |                      |\n",
    "                     +++                    +++                                          1\n",
    "            Z1 =     | |                    | | jXshu       Z2 = R2 + jX2 = -------------------------\n",
    "            R1 + jX1 | |                    | |                                1            1\n",
    "                     +++                    +++                              ----  + ----------------\n",
    "                      |                      |                               jXshu   R1 + jX1 + jXser\n",
    "                      |                      |\n",
    "                      +----------------------+---------------+\n",
    "\n",
    "\n",
    "            \"\"\"\n",
    "\n",
    "            Xshu_1 = (R1*X2 + (R1*R2*(R2**2 - R1*R2 + X2**2))**(1/2))/(R1 - R2)\n",
    "            Xser_1 = -(R2*X1 - (R1*R2*(R2**2 - R1*R2 + X2**2))**(1/2))/R2\n",
    "\n",
    "            Xshu_2 = (R1*X2 - (R1*R2*(R2**2 - R1*R2 + X2**2))**(1/2))/(R1 - R2)\n",
    "            Xser_2 = -(R2*X1 + (R1*R2*(R2**2 - R1*R2 + X2**2))**(1/2))/R2\n",
    "            \n",
    "            sol1 = Solution(\n",
    "                    config_type=\"series-shunt\", \n",
    "                    shunt_elem=ReactiveComponent(Xshu_1, f=self._frequency),\n",
    "                    series_elem=ReactiveComponent(Xser_1, f=self._frequency)\n",
    "                )\n",
    "            \n",
    "            sol2 = Solution(\n",
    "                    config_type=\"series-shunt\",\n",
    "                    shunt_elem=ReactiveComponent(Xshu_2, f=self._frequency),\n",
    "                    series_elem=ReactiveComponent(Xser_2, f=self._frequency)\n",
    "                )\n",
    "            \n",
    "            self._solutions.append(sol1)\n",
    "            if sol2 != sol1: # do not duplicate solutions\n",
    "                self._solutions.append(sol2)\n",
    "\n",
    "    def get_solutions(self):\n",
    "        rv = \"\"\n",
    "        for sol in self._solutions:\n",
    "            rv += f\"{sol._shunt_elem._component_type}={sol._shunt_elem._component_value}, \"\n",
    "            rv += f\"{sol._series_elem._component_type}={sol._series_elem._component_value}, \"\n",
    "        return rv\n",
    "        \n",
    "        \n",
    "    def get_input_reactance(self):\n",
    "        return self._input_reactance\n",
    "    \n",
    "    def plot(self):\n",
    "        pass\n",
    "        delta_f = 2000\n",
    "        freq = np.linspace(self._frequency-delta_f/2, self._frequency+delta_f/2, 2000)\n",
    "        for solution in self._solutions:\n",
    "            print(solution)\n",
    "            if solution._config_type==\"shunt-series\":\n",
    "                if solution._shunt_elem._component_type == \"L\":\n",
    "                    if solution._series_elem._component_type == \"C\":\n",
    "                        Z2 = 1/(2*PI*freq*solution._series_elem._component_value.real) \n",
    "                        \n",
    "        plt.plot(freq, Z2)\n",
    "        \n",
    "    def __repr__(self):\n",
    "        rv  = f\"From {self._Z1} Ω to {self._Z2} Ω\\n\\n\"\n",
    "        rv += f\"normalized output = {self._Z1}Ω/{self._Z2}Ω = {self._normalized_impedance}\\n\\n\"\n",
    "        for solution in self._solutions:\n",
    "            rv += f\"{solution}\"\n",
    "        return rv\n"
   ]
  },
  {
   "cell_type": "code",
   "execution_count": null,
   "metadata": {},
   "outputs": [],
   "source": []
  },
  {
   "cell_type": "code",
   "execution_count": 82,
   "metadata": {},
   "outputs": [
    {
     "data": {
      "text/plain": [
       "From 10230 Ω to 10 Ω\n",
       "\n",
       "normalized output = 10230Ω/10Ω = 1023.0\n",
       "\n",
       "shunt-series\n",
       "\tShunt Inductor:\n",
       "\tX = 320 Ω ⇔ B = -3.125 mS\n",
       "\t\u001b[1mL\u001b[0;0m = \u001b[1m509.3 nH\u001b[0;0m  (@ 100 MHz)\n",
       "\tSeries Capacitor:\n",
       "\tX = -319.69 Ω ⇔ B = 3.1281 mS\n",
       "\t\u001b[1mC\u001b[0;0m = \u001b[1m4.9785 pF\u001b[0;0m  (@ 100 MHz)\n",
       "shunt-series\n",
       "\tShunt Capacitor:\n",
       "\tX = -320 Ω ⇔ B = 3.125 mS\n",
       "\t\u001b[1mC\u001b[0;0m = \u001b[1m4.9736 pF\u001b[0;0m  (@ 100 MHz)\n",
       "\tSeries Inductor:\n",
       "\tX = 319.69 Ω ⇔ B = -3.1281 mS\n",
       "\t\u001b[1mL\u001b[0;0m = \u001b[1m508.8 nH\u001b[0;0m  (@ 100 MHz)"
      ]
     },
     "execution_count": 82,
     "metadata": {},
     "output_type": "execute_result"
    }
   ],
   "source": [
    "mn1 = L_section_matching(input_impedance=10230, output_impedance=10, frequency=100e6)\n",
    "mn1.match()\n",
    "mn1"
   ]
  },
  {
   "cell_type": "code",
   "execution_count": 83,
   "metadata": {},
   "outputs": [
    {
     "data": {
      "text/plain": [
       "From (90+32j) Ω to 100 Ω\n",
       "\n",
       "normalized output = (90+32j)Ω/100Ω = (0.9+0.32j)\n",
       "\n",
       "shunt-series\n",
       "\tShunt Capacitor:\n",
       "\tX = -425.64 Ω ⇔ B = 2.3494 mS\n",
       "\t\u001b[1mC\u001b[0;0m = \u001b[1m3.7392 pF\u001b[0;0m  (@ 100 MHz)\n",
       "\tSeries Capacitor:\n",
       "\tX = -11.738 Ω ⇔ B = 85.194 mS\n",
       "\t\u001b[1mC\u001b[0;0m = \u001b[1m135.59 pF\u001b[0;0m  (@ 100 MHz)\n",
       "shunt-series\n",
       "\tShunt Capacitor:\n",
       "\tX = -214.36 Ω ⇔ B = 4.6651 mS\n",
       "\t\u001b[1mC\u001b[0;0m = \u001b[1m7.4247 pF\u001b[0;0m  (@ 100 MHz)\n",
       "\tSeries Inductor:\n",
       "\tX = 11.738 Ω ⇔ B = -85.194 mS\n",
       "\t\u001b[1mL\u001b[0;0m = \u001b[1m18.681 nH\u001b[0;0m  (@ 100 MHz)\n",
       "series-shunt\n",
       "\tSeries Capacitor:\n",
       "\tX = -2 Ω ⇔ B = 500 mS\n",
       "\t\u001b[1mC\u001b[0;0m = \u001b[1m795.77 pF\u001b[0;0m  (@ 100 MHz)\n",
       "\tShunt Capacitor:\n",
       "\tX = -300 Ω ⇔ B = 3.3333 mS\n",
       "\t\u001b[1mC\u001b[0;0m = \u001b[1m5.3052 pF\u001b[0;0m  (@ 100 MHz)\n",
       "series-shunt\n",
       "\tSeries Capacitor:\n",
       "\tX = -62 Ω ⇔ B = 16.129 mS\n",
       "\t\u001b[1mC\u001b[0;0m = \u001b[1m25.67 pF\u001b[0;0m  (@ 100 MHz)\n",
       "\tShunt Inductor:\n",
       "\tX = 300 Ω ⇔ B = -3.3333 mS\n",
       "\t\u001b[1mL\u001b[0;0m = \u001b[1m477.46 nH\u001b[0;0m  (@ 100 MHz)"
      ]
     },
     "execution_count": 83,
     "metadata": {},
     "output_type": "execute_result"
    }
   ],
   "source": [
    "mn2 = L_section_matching(input_impedance=90+32j, output_impedance=100, frequency=100e6)\n",
    "mn2.match()\n",
    "mn2"
   ]
  },
  {
   "cell_type": "code",
   "execution_count": null,
   "metadata": {},
   "outputs": [],
   "source": [
    "\n"
   ]
  },
  {
   "cell_type": "code",
   "execution_count": null,
   "metadata": {},
   "outputs": [],
   "source": []
  },
  {
   "cell_type": "code",
   "execution_count": 84,
   "metadata": {},
   "outputs": [
    {
     "data": {
      "text/plain": [
       "From 150 Ω to 100 Ω\n",
       "\n",
       "normalized output = 150Ω/100Ω = 1.5\n",
       "\n",
       "shunt-series\n",
       "\tShunt Inductor:\n",
       "\tX = 212.13 Ω ⇔ B = -4.714 mS\n",
       "\t\u001b[1mL\u001b[0;0m = \u001b[1m337.62 nH\u001b[0;0m  (@ 100 MHz)\n",
       "\tSeries Capacitor:\n",
       "\tX = -70.711 Ω ⇔ B = 14.142 mS\n",
       "\t\u001b[1mC\u001b[0;0m = \u001b[1m22.508 pF\u001b[0;0m  (@ 100 MHz)\n",
       "shunt-series\n",
       "\tShunt Capacitor:\n",
       "\tX = -212.13 Ω ⇔ B = 4.714 mS\n",
       "\t\u001b[1mC\u001b[0;0m = \u001b[1m7.5026 pF\u001b[0;0m  (@ 100 MHz)\n",
       "\tSeries Inductor:\n",
       "\tX = 70.711 Ω ⇔ B = -14.142 mS\n",
       "\t\u001b[1mL\u001b[0;0m = \u001b[1m112.54 nH\u001b[0;0m  (@ 100 MHz)"
      ]
     },
     "execution_count": 84,
     "metadata": {},
     "output_type": "execute_result"
    }
   ],
   "source": [
    "mn = L_section_matching(input_impedance=150, output_impedance=100, frequency=100e6)\n",
    "mn.match()\n",
    "\n",
    "assert mn.get_solutions() == 'L=337.62 nH, C=22.508 pF, C=7.5026 pF, L=112.54 nH, '\n",
    "\n",
    "mn\n",
    "# 150 Ω to 100 Ω ok\n"
   ]
  },
  {
   "cell_type": "code",
   "execution_count": 85,
   "metadata": {},
   "outputs": [
    {
     "data": {
      "text/plain": [
       "From 12 Ω to 430 Ω\n",
       "\n",
       "normalized output = 12Ω/430Ω = 0.027906976744186046\n",
       "\n",
       "series-shunt\n",
       "\tSeries Inductor:\n",
       "\tX = 70.824 Ω ⇔ B = -14.12 mS\n",
       "\t\u001b[1mL\u001b[0;0m = \u001b[1m9.2393 nH\u001b[0;0m  (@ 1.22 GHz)\n",
       "\tShunt Capacitor:\n",
       "\tX = -72.857 Ω ⇔ B = 13.726 mS\n",
       "\t\u001b[1mC\u001b[0;0m = \u001b[1m1.7906 pF\u001b[0;0m  (@ 1.22 GHz)\n",
       "series-shunt\n",
       "\tSeries Capacitor:\n",
       "\tX = -70.824 Ω ⇔ B = 14.12 mS\n",
       "\t\u001b[1mC\u001b[0;0m = \u001b[1m1.842 pF\u001b[0;0m  (@ 1.22 GHz)\n",
       "\tShunt Inductor:\n",
       "\tX = 72.857 Ω ⇔ B = -13.726 mS\n",
       "\t\u001b[1mL\u001b[0;0m = \u001b[1m9.5045 nH\u001b[0;0m  (@ 1.22 GHz)"
      ]
     },
     "execution_count": 85,
     "metadata": {},
     "output_type": "execute_result"
    }
   ],
   "source": [
    "mn = L_section_matching(input_impedance=12, output_impedance=430, frequency=1220e6)\n",
    "mn.match()\n",
    "\n",
    "assert mn.get_solutions() == 'C=1.7906 pF, L=9.2393 nH, L=9.5045 nH, C=1.842 pF, '\n",
    "\n",
    "mn\n",
    "# 12 to 430 ok"
   ]
  },
  {
   "cell_type": "code",
   "execution_count": 91,
   "metadata": {},
   "outputs": [
    {
     "data": {
      "text/plain": [
       "From (322+39j) Ω to 10 Ω\n",
       "\n",
       "normalized output = (322+39j)Ω/10Ω = (32.2+3.9j)\n",
       "\n",
       "shunt-series\n",
       "\tShunt Inductor:\n",
       "\tX = 59.332 Ω ⇔ B = -16.854 mS\n",
       "\t\u001b[1mL\u001b[0;0m = \u001b[1m94.43 nH\u001b[0;0m  (@ 100 MHz)\n",
       "\tSeries Capacitor:\n",
       "\tX = -56.278 Ω ⇔ B = 17.769 mS\n",
       "\t\u001b[1mC\u001b[0;0m = \u001b[1m28.28 pF\u001b[0;0m  (@ 100 MHz)\n",
       "shunt-series\n",
       "\tShunt Capacitor:\n",
       "\tX = -56.832 Ω ⇔ B = 17.596 mS\n",
       "\t\u001b[1mC\u001b[0;0m = \u001b[1m28.004 pF\u001b[0;0m  (@ 100 MHz)\n",
       "\tSeries Inductor:\n",
       "\tX = 56.278 Ω ⇔ B = -17.769 mS\n",
       "\t\u001b[1mL\u001b[0;0m = \u001b[1m89.57 nH\u001b[0;0m  (@ 100 MHz)"
      ]
     },
     "execution_count": 91,
     "metadata": {},
     "output_type": "execute_result"
    }
   ],
   "source": [
    "mn = L_section_matching(input_impedance=322+39j, output_impedance=10, frequency=100e6)\n",
    "mn.match()\n",
    "\n",
    "assert mn.get_solutions() == 'L=94.43 nH, C=28.28 pF, C=28.004 pF, L=89.57 nH, '\n",
    "\n",
    "mn\n",
    "# ok   322+39j => 10 "
   ]
  },
  {
   "cell_type": "code",
   "execution_count": 87,
   "metadata": {},
   "outputs": [
    {
     "data": {
      "text/plain": [
       "From (32+39j) Ω to (10-123j) Ω\n",
       "\n",
       "normalized output = (32+39j)Ω/(10-123j)Ω = (-0.29397859347297917+0.28406330028235605j)\n",
       "\n",
       "shunt-series\n",
       "\tShunt Inductor:\n",
       "\tX = 56.082 Ω ⇔ B = -17.831 mS\n",
       "\t\u001b[1mL\u001b[0;0m = \u001b[1m29.752 nH\u001b[0;0m  (@ 300 MHz)\n",
       "\tSeries Capacitor:\n",
       "\tX = -149.37 Ω ⇔ B = 6.6948 mS\n",
       "\t\u001b[1mC\u001b[0;0m = \u001b[1m3.5517 pF\u001b[0;0m  (@ 300 MHz)\n",
       "shunt-series\n",
       "\tShunt Capacitor:\n",
       "\tX = -20.627 Ω ⇔ B = 48.479 mS\n",
       "\t\u001b[1mC\u001b[0;0m = \u001b[1m25.719 pF\u001b[0;0m  (@ 300 MHz)\n",
       "\tSeries Capacitor:\n",
       "\tX = -96.631 Ω ⇔ B = 10.349 mS\n",
       "\t\u001b[1mC\u001b[0;0m = \u001b[1m5.4901 pF\u001b[0;0m  (@ 300 MHz)\n",
       "series-shunt\n",
       "\tSeries Inductor:\n",
       "\tX = 179.42 Ω ⇔ B = -5.5734 mS\n",
       "\t\u001b[1mL\u001b[0;0m = \u001b[1m95.187 nH\u001b[0;0m  (@ 300 MHz)\n",
       "\tShunt Capacitor:\n",
       "\tX = -79.626 Ω ⇔ B = 12.559 mS\n",
       "\t\u001b[1mC\u001b[0;0m = \u001b[1m6.6626 pF\u001b[0;0m  (@ 300 MHz)\n",
       "series-shunt\n",
       "\tSeries Capacitor:\n",
       "\tX = -257.42 Ω ⇔ B = 3.8847 mS\n",
       "\t\u001b[1mC\u001b[0;0m = \u001b[1m2.0609 pF\u001b[0;0m  (@ 300 MHz)\n",
       "\tShunt Capacitor:\n",
       "\tX = -278.19 Ω ⇔ B = 3.5946 mS\n",
       "\t\u001b[1mC\u001b[0;0m = \u001b[1m1.907 pF\u001b[0;0m  (@ 300 MHz)"
      ]
     },
     "execution_count": 87,
     "metadata": {},
     "output_type": "execute_result"
    }
   ],
   "source": [
    "mn = L_section_matching(input_impedance=32+39j, output_impedance=10-123j, frequency=300e6)\n",
    "mn.match()\n",
    "mn\n",
    "# nope ? http://leleivre.com/rf_lcmatch.html"
   ]
  },
  {
   "cell_type": "code",
   "execution_count": 88,
   "metadata": {},
   "outputs": [
    {
     "data": {
      "text/plain": [
       "From (90+30j) Ω to 100 Ω\n",
       "\n",
       "normalized output = (90+30j)Ω/100Ω = (0.9+0.3j)\n",
       "\n",
       "shunt-series\n",
       "\tShunt Capacitor:\n",
       "\tX = -300 Ω ⇔ B = 3.3333 mS\n",
       "\t\u001b[1mC\u001b[0;0m = \u001b[1m5.3052 pF\u001b[0;0m  (@ 100 MHz)\n",
       "\tSeries wire:\n",
       "\tX = 0 Ω ⇔ B = -inf\n",
       "series-shunt\n",
       "\tSeries wire:\n",
       "\tX = -0 Ω ⇔ B = -inf\n",
       "\tShunt Capacitor:\n",
       "\tX = -300 Ω ⇔ B = 3.3333 mS\n",
       "\t\u001b[1mC\u001b[0;0m = \u001b[1m5.3052 pF\u001b[0;0m  (@ 100 MHz)\n",
       "series-shunt\n",
       "\tSeries Capacitor:\n",
       "\tX = -60 Ω ⇔ B = 16.667 mS\n",
       "\t\u001b[1mC\u001b[0;0m = \u001b[1m26.526 pF\u001b[0;0m  (@ 100 MHz)\n",
       "\tShunt Inductor:\n",
       "\tX = 300 Ω ⇔ B = -3.3333 mS\n",
       "\t\u001b[1mL\u001b[0;0m = \u001b[1m477.46 nH\u001b[0;0m  (@ 100 MHz)"
      ]
     },
     "execution_count": 88,
     "metadata": {},
     "output_type": "execute_result"
    }
   ],
   "source": [
    "mn = L_section_matching(input_impedance=90+30j, output_impedance=100, frequency=100e6)\n",
    "mn.match()\n",
    "assert mn.get_solutions() == 'C=5.3052 pF, wire=0, C=5.3052 pF, wire=0, L=477.46 nH, C=26.526 pF, '\n",
    "mn"
   ]
  },
  {
   "cell_type": "code",
   "execution_count": 89,
   "metadata": {},
   "outputs": [
    {
     "data": {
      "text/plain": [
       "From (90+312j) Ω to 100 Ω\n",
       "\n",
       "normalized output = (90+312j)Ω/100Ω = (0.9+3.12j)\n",
       "\n",
       "shunt-series\n",
       "\tShunt Capacitor:\n",
       "\tX = -6.0662 kΩ ⇔ B = 164.85 uS\n",
       "\t\u001b[1mC\u001b[0;0m = \u001b[1m262.36 fF\u001b[0;0m  (@ 100 MHz)\n",
       "\tSeries Capacitor:\n",
       "\tX = -327.35 Ω ⇔ B = 3.0548 mS\n",
       "\t\u001b[1mC\u001b[0;0m = \u001b[1m4.8619 pF\u001b[0;0m  (@ 100 MHz)\n",
       "shunt-series\n",
       "\tShunt Capacitor:\n",
       "\tX = -173.82 Ω ⇔ B = 5.753 mS\n",
       "\t\u001b[1mC\u001b[0;0m = \u001b[1m9.1562 pF\u001b[0;0m  (@ 100 MHz)\n",
       "\tSeries Inductor:\n",
       "\tX = 327.35 Ω ⇔ B = -3.0548 mS\n",
       "\t\u001b[1mL\u001b[0;0m = \u001b[1m521 nH\u001b[0;0m  (@ 100 MHz)\n",
       "series-shunt\n",
       "\tSeries Capacitor:\n",
       "\tX = -282 Ω ⇔ B = 3.5461 mS\n",
       "\t\u001b[1mC\u001b[0;0m = \u001b[1m5.6438 pF\u001b[0;0m  (@ 100 MHz)\n",
       "\tShunt Capacitor:\n",
       "\tX = -300 Ω ⇔ B = 3.3333 mS\n",
       "\t\u001b[1mC\u001b[0;0m = \u001b[1m5.3052 pF\u001b[0;0m  (@ 100 MHz)\n",
       "series-shunt\n",
       "\tSeries Capacitor:\n",
       "\tX = -342 Ω ⇔ B = 2.924 mS\n",
       "\t\u001b[1mC\u001b[0;0m = \u001b[1m4.6537 pF\u001b[0;0m  (@ 100 MHz)\n",
       "\tShunt Inductor:\n",
       "\tX = 300 Ω ⇔ B = -3.3333 mS\n",
       "\t\u001b[1mL\u001b[0;0m = \u001b[1m477.46 nH\u001b[0;0m  (@ 100 MHz)"
      ]
     },
     "execution_count": 89,
     "metadata": {},
     "output_type": "execute_result"
    }
   ],
   "source": [
    "mn = L_section_matching(input_impedance=90+312j, output_impedance=100, frequency=100e6)\n",
    "mn.match()\n",
    "mn\n"
   ]
  },
  {
   "cell_type": "code",
   "execution_count": 90,
   "metadata": {},
   "outputs": [
    {
     "data": {
      "text/plain": [
       "From 200 Ω to (66.006600660066+660.06600660066j) Ω\n",
       "\n",
       "normalized output = 200Ω/(66.006600660066+660.06600660066j)Ω = (0.030000000000000002-0.30000000000000004j)\n",
       "\n",
       "shunt-series\n",
       "\tShunt Inductor:\n",
       "\tX = 140.37 Ω ⇔ B = -7.1239 mS\n",
       "\t\u001b[1mL\u001b[0;0m = \u001b[1m111.7 nH\u001b[0;0m  (@ 200 MHz)\n",
       "\tSeries Inductor:\n",
       "\tX = 566.02 Ω ⇔ B = -1.7667 mS\n",
       "\t\u001b[1mL\u001b[0;0m = \u001b[1m450.43 nH\u001b[0;0m  (@ 200 MHz)\n",
       "shunt-series\n",
       "\tShunt Capacitor:\n",
       "\tX = -140.37 Ω ⇔ B = 7.1239 mS\n",
       "\t\u001b[1mC\u001b[0;0m = \u001b[1m5.669 pF\u001b[0;0m  (@ 200 MHz)\n",
       "\tSeries Inductor:\n",
       "\tX = 754.11 Ω ⇔ B = -1.3261 mS\n",
       "\t\u001b[1mL\u001b[0;0m = \u001b[1m600.1 nH\u001b[0;0m  (@ 200 MHz)\n",
       "series-shunt\n",
       "\tSeries Inductor:\n",
       "\tX = 1.1372 kΩ ⇔ B = -879.32 uS\n",
       "\t\u001b[1mL\u001b[0;0m = \u001b[1m904.99 nH\u001b[0;0m  (@ 200 MHz)\n",
       "\tShunt Inductor:\n",
       "\tX = 1.5454 kΩ ⇔ B = -647.06 uS\n",
       "\t\u001b[1mL\u001b[0;0m = \u001b[1m1.2298 uH\u001b[0;0m  (@ 200 MHz)\n",
       "series-shunt\n",
       "\tSeries Capacitor:\n",
       "\tX = -1.1372 kΩ ⇔ B = 879.32 uS\n",
       "\t\u001b[1mC\u001b[0;0m = \u001b[1m699.74 fF\u001b[0;0m  (@ 200 MHz)\n",
       "\tShunt Inductor:\n",
       "\tX = 425 Ω ⇔ B = -2.3529 mS\n",
       "\t\u001b[1mL\u001b[0;0m = \u001b[1m338.2 nH\u001b[0;0m  (@ 200 MHz)"
      ]
     },
     "execution_count": 90,
     "metadata": {},
     "output_type": "execute_result"
    }
   ],
   "source": [
    "input_imp = 200             # Ω\n",
    "\n",
    "output_imp = (0.15-1.5j)    # mS\n",
    "output_imp *= 1e-3          # S\n",
    "output_imp = 1/output_imp   # Ω\n",
    "\n",
    "f = 200e6                   # Hz\n",
    "\n",
    "mn = L_section_matching(input_impedance=input_imp, output_impedance=output_imp, frequency=f)\n",
    "mn.match()\n",
    "mn"
   ]
  },
  {
   "cell_type": "code",
   "execution_count": null,
   "metadata": {},
   "outputs": [],
   "source": []
  },
  {
   "cell_type": "code",
   "execution_count": null,
   "metadata": {},
   "outputs": [],
   "source": []
  },
  {
   "cell_type": "code",
   "execution_count": null,
   "metadata": {},
   "outputs": [],
   "source": []
  },
  {
   "cell_type": "code",
   "execution_count": null,
   "metadata": {},
   "outputs": [],
   "source": []
  }
 ],
 "metadata": {
  "kernelspec": {
   "display_name": "Python 3",
   "language": "python",
   "name": "python3"
  },
  "language_info": {
   "codemirror_mode": {
    "name": "ipython",
    "version": 3
   },
   "file_extension": ".py",
   "mimetype": "text/x-python",
   "name": "python",
   "nbconvert_exporter": "python",
   "pygments_lexer": "ipython3",
   "version": "3.8.1"
  }
 },
 "nbformat": 4,
 "nbformat_minor": 4
}
