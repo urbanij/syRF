{
 "cells": [
  {
   "cell_type": "code",
   "execution_count": 73,
   "metadata": {},
   "outputs": [],
   "source": [
    "PI = 3.141592653589793"
   ]
  },
  {
   "cell_type": "code",
   "execution_count": 201,
   "metadata": {},
   "outputs": [],
   "source": [
    "class Component:\n",
    "    def __init__(self, impedance, frequency):\n",
    "        self._impedance = impedance\n",
    "        self._component_type = \"L\" if impedance > 0 else \"C\"\n",
    "        self._component_value = impedance/(2*PI*frequency) if self._impedance > 0 else -1/(2*PI*frequency*self._impedance)\n",
    "    \n",
    "    def __repr__(self):\n",
    "        rv = f\"{self._component_type}: X = {self._impedance:.4g} Ω, \\t{self._component_value:.4g}\"\n",
    "        rv += \" H\" if self._impedance > 0 else \" F\"\n",
    "        return rv"
   ]
  },
  {
   "cell_type": "code",
   "execution_count": 263,
   "metadata": {},
   "outputs": [],
   "source": [
    "class L_section_matching:\n",
    "    def __init__(self, input_impedance, output_impedance, frequency=None):\n",
    "        self._Z_1 = input_impedance\n",
    "        self._Z_2 = output_impedance\n",
    "        self._conversion_type = \"down_conversion\" if self._Z_1.real >= self._Z_2.real else \"up_conversion\"\n",
    "        \n",
    "        self._frequency=frequency\n",
    "        self._shunt_element = ()\n",
    "        self._series_element = ()\n",
    "\n",
    "    def match(self):\n",
    "        R_1 = self._Z_1.real\n",
    "        X_1 = self._Z_1.imag\n",
    "        R_2 = self._Z_2.real\n",
    "        X_2 = self._Z_2.imag\n",
    "\n",
    "        if R_1 >= R_2:\n",
    "            \"\"\"\n",
    "            shunt - series configuration (down coversion)\n",
    "            \n",
    "            %                                jX_b\n",
    "            %                            +--------+\n",
    "            %             +-----------+--+        +----+\n",
    "            %             |           |  +--------+\n",
    "            %             |           |\n",
    "            %             |           |\n",
    "            %            +++         +++\n",
    "            % Z_1 =      | |         | | jX_a          Z_2 = R_2 + jX_2\n",
    "            % R_1 + jX_1 | |         | |\n",
    "            %            +++         +++\n",
    "            %             |           |\n",
    "            %             |           |\n",
    "            %             |           |\n",
    "            %             +-----------+----------------+\n",
    "            \n",
    "            \"\"\"\n",
    "\n",
    "            X_a_1 = (R_1*X_2 + R_2*X_1 - R_1*(X_2 - ((R_2*(R_1**2 - R_2*R_1 + X_1**2))/R_1)**(1/2)))/(R_1 - R_2)\n",
    "            X_b_1 = X_2 - ((R_2*(R_1**2 - R_2*R_1 + X_1**2))/R_1)**(1/2)\n",
    "\n",
    "            X_a_2 = (R_1*X_2 + R_2*X_1 - R_1*(X_2 + ((R_2*(R_1**2 - R_2*R_1 + X_1**2))/R_1)**(1/2)))/(R_1 - R_2)\n",
    "            X_b_2 = X_2 + ((R_2*(R_1**2 - R_2*R_1 + X_1**2))/R_1)**(1/2)\n",
    "     \n",
    "\n",
    "        if R_1 < R_2:\n",
    "            \"\"\" series - shunt configuration (up conversion)\n",
    "            \n",
    "            %                       jX_b\n",
    "            %                      +--------+\n",
    "            %              +-------+        +----+--------------+\n",
    "            %              |       +--------+    |\n",
    "            %              |                     |\n",
    "            %              |                     |\n",
    "            %             +++                   +++\n",
    "            % Z_1 =       | |                   | | jX_a          Z_2 = R_2 + jX_2\n",
    "            % R_1 + jX_ 1 | |                   | |\n",
    "            %             +++                   +++\n",
    "            %              |                     |\n",
    "            %              |                     |\n",
    "            %              |                     |\n",
    "            %              +---------------------+---------------+\n",
    "            \"\"\"\n",
    "\n",
    "            X_a_1 = (R_1*X_2 + (R_1*R_2*(R_2**2 - R_1*R_2 + X_2**2))**(1/2))/(R_1 - R_2)\n",
    "            X_b_1 = -(R_2*X_1 - (R_1*R_2*(R_2**2 - R_1*R_2 + X_2**2))**(1/2))/R_2\n",
    "\n",
    "            X_a_2 = (R_1*X_2 - (R_1*R_2*(R_2**2 - R_1*R_2 + X_2**2))**(1/2))/(R_1 - R_2)\n",
    "            X_b_2 = -(R_2*X_1 + (R_1*R_2*(R_2**2 - R_1*R_2 + X_2**2))**(1/2))/R_2\n",
    "\n",
    "\n",
    "        self._shunt_element = Component(impedance=X_a_1, frequency=self._frequency), Component(impedance=X_a_2, frequency=self._frequency)\n",
    "        self._series_element = Component(impedance=X_b_1, frequency=self._frequency), Component(impedance=X_b_2, frequency=self._frequency)\n",
    "        \n",
    "        return self\n",
    "       \n",
    "    def get_solutions(self):\n",
    "        self.match()\n",
    "        return f\"{self._shunt_element},\\n {self._series_element}\"\n",
    "    \n",
    "        \n",
    "    def __repr__(self):\n",
    "        rv = f\"From {self._Z_1} Ω to {self._Z_2} Ω\\n\\n\"\n",
    "        rv += \"Down-conversion (shunt-series)\" if self._conversion_type == \"down_conversion\" else \"Up-conversion (series-shunt)\"\n",
    "        rv += \"\\n\\n\"\n",
    "        if self._conversion_type == \"down_conversion\":\n",
    "            rv += f\"[shunt {self._shunt_element[0]}, series {self._series_element[0]}]\\n\"\n",
    "            rv += f\"[shunt {self._shunt_element[1]}, series {self._series_element[1]}]\"                \n",
    "        elif self._conversion_type == \"up_conversion\":\n",
    "            rv += f\"[series {self._series_element[0]}, shunt {self._shunt_element[0]}]\\n\"\n",
    "            rv += f\"[series {self._series_element[1]}, shunt {self._shunt_element[1]}]\"              \n",
    "        return rv\n"
   ]
  },
  {
   "cell_type": "code",
   "execution_count": 264,
   "metadata": {},
   "outputs": [
    {
     "data": {
      "text/plain": [
       "From 100 Ω to 10 Ω\n",
       "\n",
       "Down-conversion (shunt-series)\n",
       "\n",
       "[shunt L: X = 33.33 Ω, \t0.1658 H, series C: X = -30 Ω, \t0.0001658 F]\n",
       "[shunt C: X = -33.33 Ω, \t0.0001492 F, series L: X = 30 Ω, \t0.1492 H]"
      ]
     },
     "execution_count": 264,
     "metadata": {},
     "output_type": "execute_result"
    }
   ],
   "source": [
    "mn1 = L_section_matching(input_impedance=100, output_impedance=10, frequency=32)\n",
    "mn1.match()"
   ]
  },
  {
   "cell_type": "code",
   "execution_count": null,
   "metadata": {},
   "outputs": [],
   "source": []
  },
  {
   "cell_type": "code",
   "execution_count": null,
   "metadata": {},
   "outputs": [],
   "source": []
  },
  {
   "cell_type": "code",
   "execution_count": 265,
   "metadata": {},
   "outputs": [
    {
     "data": {
      "text/plain": [
       "'(L: X = 33.33 Ω, \\t0.1658 H, C: X = -33.33 Ω, \\t0.0001492 F),\\n (C: X = -30 Ω, \\t0.0001658 F, L: X = 30 Ω, \\t0.1492 H)'"
      ]
     },
     "execution_count": 265,
     "metadata": {},
     "output_type": "execute_result"
    }
   ],
   "source": [
    "L_section_matching(input_impedance=100, output_impedance=10, frequency=32).get_solutions()"
   ]
  },
  {
   "cell_type": "code",
   "execution_count": 267,
   "metadata": {},
   "outputs": [
    {
     "data": {
      "text/plain": [
       "From 10 Ω to 100 Ω\n",
       "\n",
       "Up-conversion (series-shunt)\n",
       "\n",
       "[series L: X = 30 Ω, \t4.775e-08 H, shunt C: X = -33.33 Ω, \t4.775e-11 F]\n",
       "[series C: X = -30 Ω, \t5.305e-11 F, shunt L: X = 33.33 Ω, \t5.305e-08 H]"
      ]
     },
     "execution_count": 267,
     "metadata": {},
     "output_type": "execute_result"
    }
   ],
   "source": [
    "L_section_matching(input_impedance=10, output_impedance=100, frequency=100e6).match()"
   ]
  },
  {
   "cell_type": "code",
   "execution_count": 270,
   "metadata": {},
   "outputs": [
    {
     "data": {
      "text/plain": [
       "From (300+25j) Ω to (100-41j) Ω\n",
       "\n",
       "Down-conversion (shunt-series)\n",
       "\n",
       "[shunt L: X = 225.7 Ω, \t3.593e-07 H, series C: X = -183.2 Ω, \t8.69e-12 F]\n",
       "[shunt C: X = -200.7 Ω, \t7.929e-12 F, series L: X = 101.2 Ω, \t1.61e-07 H]"
      ]
     },
     "execution_count": 270,
     "metadata": {},
     "output_type": "execute_result"
    }
   ],
   "source": [
    "L_section_matching(input_impedance=300+25j, output_impedance=100-41j, frequency=100e6).match()"
   ]
  },
  {
   "cell_type": "code",
   "execution_count": null,
   "metadata": {},
   "outputs": [],
   "source": []
  },
  {
   "cell_type": "code",
   "execution_count": null,
   "metadata": {},
   "outputs": [],
   "source": []
  }
 ],
 "metadata": {
  "kernelspec": {
   "display_name": "Python 3",
   "language": "python",
   "name": "python3"
  },
  "language_info": {
   "codemirror_mode": {
    "name": "ipython",
    "version": 3
   },
   "file_extension": ".py",
   "mimetype": "text/x-python",
   "name": "python",
   "nbconvert_exporter": "python",
   "pygments_lexer": "ipython3",
   "version": "3.8.1"
  }
 },
 "nbformat": 4,
 "nbformat_minor": 4
}
