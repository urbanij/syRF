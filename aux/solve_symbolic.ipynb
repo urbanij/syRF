{
 "cells": [
  {
   "cell_type": "code",
   "execution_count": 4,
   "metadata": {},
   "outputs": [],
   "source": [
    "#!/usr/bin/env python3\n",
    "# -*- coding: utf-8 -*-\n",
    "\"\"\"\n",
    "Created on Sun Mar 25 11:38:35 2018\n",
    "\n",
    "@author: francescourbani\n",
    "\n",
    "RF Electronics class, Spring 2018\n",
    "\"\"\"\n",
    "import sympy\n",
    "\n",
    "sympy.init_printing() # doctest: +SKIP"
   ]
  },
  {
   "cell_type": "code",
   "execution_count": 5,
   "metadata": {},
   "outputs": [],
   "source": [
    "X   = sympy.symbols('X',   real=True)\n",
    "B   = sympy.symbols('B',   real=True)\n",
    "R_L = sympy.symbols('R_L', real=True)\n",
    "X_L = sympy.symbols('X_L', real=True)"
   ]
  },
  {
   "cell_type": "markdown",
   "metadata": {},
   "source": [
    "# ---"
   ]
  },
  {
   "cell_type": "markdown",
   "metadata": {},
   "source": [
    "## Solving Shunt - Series configuration"
   ]
  },
  {
   "cell_type": "code",
   "execution_count": 6,
   "metadata": {},
   "outputs": [
    {
     "data": {
      "image/png": "[encoded data removed]",
      "text/latex": [
       "$$1.0 i X + \\frac{1}{1.0 i B + \\frac{1}{R_{L} + 1.0 i X_{L}}}$$"
      ],
      "text/plain": [
       "                      1            \n",
       "1.0⋅ⅈ⋅X + ─────────────────────────\n",
       "                           1       \n",
       "          1.0⋅ⅈ⋅B + ───────────────\n",
       "                    R_L + 1.0⋅ⅈ⋅X_L"
      ]
     },
     "execution_count": 6,
     "metadata": {},
     "output_type": "execute_result"
    }
   ],
   "source": [
    "Z_0 = sympy.simplify( X*1j + 1/(B*1j + 1/(R_L+X_L*1j)) )\n",
    "Z_0"
   ]
  },
  {
   "cell_type": "code",
   "execution_count": 7,
   "metadata": {},
   "outputs": [
    {
     "name": "stdout",
     "output_type": "stream",
     "text": [
      "solving shunt-series configuration:\n",
      "Z_0 = \n",
      "1.0*I*X + 1/(1.0*I*B + 1/(R_L + 1.0*I*X_L))\n"
     ]
    }
   ],
   "source": [
    "\n",
    "print (\"solving shunt-series configuration:\")\n",
    "print (\"Z_0 = \")\n",
    "print (Z_0)\n",
    "R_0, X_0 = Z_0.as_real_imag()\n"
   ]
  },
  {
   "cell_type": "code",
   "execution_count": 8,
   "metadata": {},
   "outputs": [
    {
     "data": {
      "image/png": "[encoded data removed]",
      "text/latex": [
       "$$\\frac{R_{L}}{\\left(R_{L}^{2} + 1.0 X_{L}^{2}\\right) \\left(\\frac{R_{L}^{2}}{\\left(R_{L}^{2} + 1.0 X_{L}^{2}\\right)^{2}} + \\left(1.0 B - \\frac{1.0 X_{L}}{R_{L}^{2} + 1.0 X_{L}^{2}}\\right)^{2}\\right)}$$"
      ],
      "text/plain": [
       "                                R_L                                \n",
       "───────────────────────────────────────────────────────────────────\n",
       "                  ⎛          2                                   2⎞\n",
       "⎛   2          2⎞ ⎜       R_L           ⎛            1.0⋅X_L    ⎞ ⎟\n",
       "⎝R_L  + 1.0⋅X_L ⎠⋅⎜────────────────── + ⎜1.0⋅B - ───────────────⎟ ⎟\n",
       "                  ⎜                 2   ⎜           2          2⎟ ⎟\n",
       "                  ⎜⎛   2          2⎞    ⎝        R_L  + 1.0⋅X_L ⎠ ⎟\n",
       "                  ⎝⎝R_L  + 1.0⋅X_L ⎠                              ⎠"
      ]
     },
     "execution_count": 8,
     "metadata": {},
     "output_type": "execute_result"
    }
   ],
   "source": [
    "R_0"
   ]
  },
  {
   "cell_type": "code",
   "execution_count": 9,
   "metadata": {},
   "outputs": [
    {
     "data": {
      "image/png": "[encoded data removed]",
      "text/latex": [
       "$$1.0 X + \\frac{- 1.0 B + \\frac{1.0 X_{L}}{R_{L}^{2} + 1.0 X_{L}^{2}}}{\\frac{R_{L}^{2}}{\\left(R_{L}^{2} + 1.0 X_{L}^{2}\\right)^{2}} + \\left(1.0 B - \\frac{1.0 X_{L}}{R_{L}^{2} + 1.0 X_{L}^{2}}\\right)^{2}}$$"
      ],
      "text/plain": [
       "                                 1.0⋅X_L               \n",
       "                    -1.0⋅B + ───────────────           \n",
       "                                2          2           \n",
       "                             R_L  + 1.0⋅X_L            \n",
       "1.0⋅X + ───────────────────────────────────────────────\n",
       "                  2                                   2\n",
       "               R_L           ⎛            1.0⋅X_L    ⎞ \n",
       "        ────────────────── + ⎜1.0⋅B - ───────────────⎟ \n",
       "                         2   ⎜           2          2⎟ \n",
       "        ⎛   2          2⎞    ⎝        R_L  + 1.0⋅X_L ⎠ \n",
       "        ⎝R_L  + 1.0⋅X_L ⎠                              "
      ]
     },
     "execution_count": 9,
     "metadata": {},
     "output_type": "execute_result"
    }
   ],
   "source": [
    "X_0"
   ]
  },
  {
   "cell_type": "markdown",
   "metadata": {},
   "source": [
    "# ---"
   ]
  },
  {
   "cell_type": "markdown",
   "metadata": {},
   "source": [
    "## Solving Series - Shunt configuration"
   ]
  },
  {
   "cell_type": "code",
   "execution_count": 10,
   "metadata": {},
   "outputs": [
    {
     "data": {
      "image/png": "[encoded data removed]",
      "text/latex": [
       "$$\\frac{1}{1.0 i B + \\frac{1}{R_{L} + 1.0 i X + 1.0 i X_{L}}}$$"
      ],
      "text/plain": [
       "                 1                 \n",
       "───────────────────────────────────\n",
       "                      1            \n",
       "1.0⋅ⅈ⋅B + ─────────────────────────\n",
       "          R_L + 1.0⋅ⅈ⋅X + 1.0⋅ⅈ⋅X_L"
      ]
     },
     "execution_count": 10,
     "metadata": {},
     "output_type": "execute_result"
    }
   ],
   "source": [
    "Z_0 = 1/(B*1j + 1/(X*1j + R_L + X_L*1j) )\n",
    "\n",
    "Z_0"
   ]
  },
  {
   "cell_type": "code",
   "execution_count": 11,
   "metadata": {},
   "outputs": [
    {
     "name": "stdout",
     "output_type": "stream",
     "text": [
      "solving series-shunt configuration:\n",
      "Z_0 = \n",
      "1/(1.0*I*B + 1/(R_L + 1.0*I*X + 1.0*I*X_L))\n"
     ]
    }
   ],
   "source": [
    "print (\"solving series-shunt configuration:\")\n",
    "print (\"Z_0 = \")\n",
    "print (Z_0)\n",
    "R_0, X_0 = Z_0.as_real_imag()\n"
   ]
  },
  {
   "cell_type": "code",
   "execution_count": 12,
   "metadata": {},
   "outputs": [
    {
     "data": {
      "image/png": "[encoded data removed]",
      "text/latex": [
       "$$\\frac{R_{L}}{\\left(R_{L}^{2} + \\left(1.0 X + 1.0 X_{L}\\right)^{2}\\right) \\left(\\frac{R_{L}^{2}}{\\left(R_{L}^{2} + \\left(1.0 X + 1.0 X_{L}\\right)^{2}\\right)^{2}} + \\left(1.0 B + \\frac{- 1.0 X - 1.0 X_{L}}{R_{L}^{2} + \\left(1.0 X + 1.0 X_{L}\\right)^{2}}\\right)^{2}\\right)}$$"
      ],
      "text/plain": [
       "                                               R_L                            \n",
       "──────────────────────────────────────────────────────────────────────────────\n",
       "                            ⎛               2                                 \n",
       "⎛   2                    2⎞ ⎜            R_L                ⎛             -1.0\n",
       "⎝R_L  + (1.0⋅X + 1.0⋅X_L) ⎠⋅⎜──────────────────────────── + ⎜1.0⋅B + ─────────\n",
       "                            ⎜                           2   ⎜           2     \n",
       "                            ⎜⎛   2                    2⎞    ⎝        R_L  + (1\n",
       "                            ⎝⎝R_L  + (1.0⋅X + 1.0⋅X_L) ⎠                      \n",
       "\n",
       "                   \n",
       "───────────────────\n",
       "                 2⎞\n",
       "⋅X - 1.0⋅X_L    ⎞ ⎟\n",
       "────────────────⎟ ⎟\n",
       "               2⎟ ⎟\n",
       ".0⋅X + 1.0⋅X_L) ⎠ ⎟\n",
       "                  ⎠"
      ]
     },
     "execution_count": 12,
     "metadata": {},
     "output_type": "execute_result"
    }
   ],
   "source": [
    "R_0"
   ]
  },
  {
   "cell_type": "code",
   "execution_count": 13,
   "metadata": {},
   "outputs": [
    {
     "data": {
      "image/png": "[encoded data removed]",
      "text/latex": [
       "$$\\frac{- 1.0 B - \\frac{- 1.0 X - 1.0 X_{L}}{R_{L}^{2} + \\left(1.0 X + 1.0 X_{L}\\right)^{2}}}{\\frac{R_{L}^{2}}{\\left(R_{L}^{2} + \\left(1.0 X + 1.0 X_{L}\\right)^{2}\\right)^{2}} + \\left(1.0 B + \\frac{- 1.0 X - 1.0 X_{L}}{R_{L}^{2} + \\left(1.0 X + 1.0 X_{L}\\right)^{2}}\\right)^{2}}$$"
      ],
      "text/plain": [
       "                               -1.0⋅X - 1.0⋅X_L                    \n",
       "                 -1.0⋅B - ─────────────────────────                \n",
       "                             2                    2                \n",
       "                          R_L  + (1.0⋅X + 1.0⋅X_L)                 \n",
       "───────────────────────────────────────────────────────────────────\n",
       "               2                                                  2\n",
       "            R_L                ⎛             -1.0⋅X - 1.0⋅X_L    ⎞ \n",
       "──────────────────────────── + ⎜1.0⋅B + ─────────────────────────⎟ \n",
       "                           2   ⎜           2                    2⎟ \n",
       "⎛   2                    2⎞    ⎝        R_L  + (1.0⋅X + 1.0⋅X_L) ⎠ \n",
       "⎝R_L  + (1.0⋅X + 1.0⋅X_L) ⎠                                        "
      ]
     },
     "execution_count": 13,
     "metadata": {},
     "output_type": "execute_result"
    }
   ],
   "source": [
    "X_0"
   ]
  },
  {
   "cell_type": "code",
   "execution_count": null,
   "metadata": {},
   "outputs": [],
   "source": []
  },
  {
   "cell_type": "code",
   "execution_count": null,
   "metadata": {},
   "outputs": [],
   "source": []
  }
 ],
 "metadata": {
  "kernelspec": {
   "display_name": "Python 3",
   "language": "python",
   "name": "python3"
  },
  "language_info": {
   "codemirror_mode": {
    "name": "ipython",
    "version": 3
   },
   "file_extension": ".py",
   "mimetype": "text/x-python",
   "name": "python",
   "nbconvert_exporter": "python",
   "pygments_lexer": "ipython3",
   "version": "3.6.4"
  }
 },
 "nbformat": 4,
 "nbformat_minor": 2
}
